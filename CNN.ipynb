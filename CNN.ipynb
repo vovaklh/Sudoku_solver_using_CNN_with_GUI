{
 "cells": [
  {
   "cell_type": "code",
   "execution_count": 1,
   "metadata": {},
   "outputs": [
    {
     "name": "stderr",
     "output_type": "stream",
     "text": [
      "Using TensorFlow backend.\n"
     ]
    }
   ],
   "source": [
    "import numpy as np\n",
    "import cv2\n",
    "import os\n",
    "import matplotlib.pyplot as plt\n",
    "from keras import Sequential\n",
    "from keras.models import save_model\n",
    "from sklearn.metrics import accuracy_score\n",
    "from keras.preprocessing.image import ImageDataGenerator\n",
    "from keras.utils.np_utils import to_categorical\n",
    "from keras.layers import Conv2D, MaxPooling2D, Dropout, Dense, Activation\n",
    "from keras.layers.core import Flatten\n",
    "from keras.optimizers import Adam\n",
    "from keras.datasets import mnist\n",
    "import pandas as pd"
   ]
  },
  {
   "cell_type": "code",
   "execution_count": 2,
   "metadata": {},
   "outputs": [],
   "source": [
    "%matplotlib inline"
   ]
  },
  {
   "cell_type": "code",
   "execution_count": 3,
   "metadata": {},
   "outputs": [],
   "source": [
    "# Load train and test data\n",
    "(X_train, y_train), (X_test, y_test) = mnist.load_data()"
   ]
  },
  {
   "cell_type": "code",
   "execution_count": 4,
   "metadata": {},
   "outputs": [],
   "source": [
    "# Number of classes\n",
    "noOfClasses = 10"
   ]
  },
  {
   "cell_type": "code",
   "execution_count": 5,
   "metadata": {},
   "outputs": [
    {
     "data": {
      "text/plain": [
       "<matplotlib.image.AxesImage at 0x1d0aacd1fd0>"
      ]
     },
     "execution_count": 5,
     "metadata": {},
     "output_type": "execute_result"
    },
    {
     "data": {
      "image/png": "[encoded data removed]",
      "text/plain": [
       "<Figure size 432x288 with 1 Axes>"
      ]
     },
     "metadata": {
      "needs_background": "light"
     },
     "output_type": "display_data"
    }
   ],
   "source": [
    "# Show image by index\n",
    "index = 0\n",
    "plt.imshow(X_train[index])"
   ]
  },
  {
   "cell_type": "code",
   "execution_count": 6,
   "metadata": {},
   "outputs": [],
   "source": [
    "# Define function to preprocess image\n",
    "def preProcessing(img):\n",
    "    img = img / 255.0\n",
    "    return img"
   ]
  },
  {
   "cell_type": "code",
   "execution_count": 7,
   "metadata": {},
   "outputs": [],
   "source": [
    "# Preprocess all images\n",
    "X_train = np.array(list(map(preProcessing, X_train)))\n",
    "X_test = np.array(list(map(preProcessing, X_test)))"
   ]
  },
  {
   "cell_type": "code",
   "execution_count": 8,
   "metadata": {},
   "outputs": [],
   "source": [
    "# Add depth of one\n",
    "X_train = X_train.reshape(X_train.shape[0], X_train.shape[1], X_train.shape[2], 1)\n",
    "X_test = X_test.reshape(X_test.shape[0], X_test.shape[1], X_test.shape[2], 1)"
   ]
  },
  {
   "cell_type": "code",
   "execution_count": 9,
   "metadata": {},
   "outputs": [],
   "source": [
    "# One hot encoding\n",
    "y_train = to_categorical(y_train, noOfClasses)\n",
    "y_test = to_categorical(y_test, noOfClasses)"
   ]
  },
  {
   "cell_type": "code",
   "execution_count": 10,
   "metadata": {},
   "outputs": [],
   "source": [
    "# Image dimension\n",
    "imageDimension = (28, 28, 1)"
   ]
  },
  {
   "cell_type": "code",
   "execution_count": 11,
   "metadata": {},
   "outputs": [],
   "source": [
    "# Create model\n",
    "def myModel():\n",
    "    noOfFilters = 32\n",
    "    sizeOfFilter1 = (5, 5)\n",
    "    sizeOfFilter2 = (3, 3)\n",
    "    sizeOfPoll = (2, 2)\n",
    "    noOfNodes = 64\n",
    "    \n",
    "    # Create sequential model\n",
    "    model = Sequential()\n",
    "    \n",
    "    # First conv + maxpoll layer\n",
    "    model.add(Conv2D(noOfFilters, sizeOfFilter1, padding='same',\n",
    "                      input_shape = (imageDimension[0], imageDimension[1], 1)))\n",
    "    model.add(Activation('relu'))\n",
    "    model.add(MaxPooling2D(pool_size = sizeOfPoll))\n",
    "    \n",
    "    # Second conv + maxpool layer\n",
    "    model.add(Conv2D(noOfFilters, sizeOfFilter2, padding='same'))\n",
    "    model.add(Activation('relu'))\n",
    "    model.add(MaxPooling2D(pool_size = sizeOfPoll))\n",
    "    \n",
    "    # First FC layer\n",
    "    model.add(Flatten())\n",
    "    model.add(Dense(noOfNodes, activation = \"relu\"))\n",
    "    model.add(Dropout(0.5))\n",
    "    \n",
    "    # Second FC layer\n",
    "    model.add(Dense(noOfNodes, activation=\"relu\"))\n",
    "    model.add(Dropout(0.5))\n",
    "    \n",
    "    #Output layer\n",
    "    model.add(Dense(noOfClasses, activation = \"softmax\"))\n",
    "    \n",
    "    model.compile(optimizer = Adam(learning_rate = 0.001), loss = \"categorical_crossentropy\", metrics = ['accuracy'])\n",
    "    \n",
    "    return model\n"
   ]
  },
  {
   "cell_type": "code",
   "execution_count": 12,
   "metadata": {},
   "outputs": [],
   "source": [
    "# Get model\n",
    "model = myModel()"
   ]
  },
  {
   "cell_type": "code",
   "execution_count": 13,
   "metadata": {},
   "outputs": [
    {
     "name": "stdout",
     "output_type": "stream",
     "text": [
      "Train on 60000 samples, validate on 10000 samples\n",
      "Epoch 1/10\n",
      "60000/60000 [==============================] - 38s 639us/step - loss: 0.6887 - accuracy: 0.7687 - val_loss: 0.0807 - val_accuracy: 0.9758\n",
      "Epoch 2/10\n",
      "60000/60000 [==============================] - 38s 638us/step - loss: 0.2527 - accuracy: 0.9261 - val_loss: 0.0620 - val_accuracy: 0.9820\n",
      "Epoch 3/10\n",
      "60000/60000 [==============================] - 38s 637us/step - loss: 0.1848 - accuracy: 0.9465 - val_loss: 0.0451 - val_accuracy: 0.9863\n",
      "Epoch 4/10\n",
      "60000/60000 [==============================] - 39s 650us/step - loss: 0.1572 - accuracy: 0.9540 - val_loss: 0.0423 - val_accuracy: 0.9864\n",
      "Epoch 5/10\n",
      "60000/60000 [==============================] - 39s 656us/step - loss: 0.1372 - accuracy: 0.9590 - val_loss: 0.0378 - val_accuracy: 0.9876\n",
      "Epoch 6/10\n",
      "60000/60000 [==============================] - 41s 689us/step - loss: 0.1257 - accuracy: 0.9631 - val_loss: 0.0331 - val_accuracy: 0.9899\n",
      "Epoch 7/10\n",
      "60000/60000 [==============================] - 43s 716us/step - loss: 0.1153 - accuracy: 0.9667 - val_loss: 0.0299 - val_accuracy: 0.9912\n",
      "Epoch 8/10\n",
      "60000/60000 [==============================] - 39s 643us/step - loss: 0.1048 - accuracy: 0.9686 - val_loss: 0.0338 - val_accuracy: 0.9892\n",
      "Epoch 9/10\n",
      "60000/60000 [==============================] - 38s 632us/step - loss: 0.0983 - accuracy: 0.9697 - val_loss: 0.0290 - val_accuracy: 0.9910\n",
      "Epoch 10/10\n",
      "60000/60000 [==============================] - 38s 632us/step - loss: 0.0931 - accuracy: 0.9720 - val_loss: 0.0265 - val_accuracy: 0.9921\n"
     ]
    }
   ],
   "source": [
    "# Fit model and save it\n",
    "history = model.fit(X_train, y_train,  \n",
    "                              validation_data=(X_test, y_test),\n",
    "                              batch_size=128,\n",
    "                              epochs=10,\n",
    "                              verbose=1)"
   ]
  },
  {
   "cell_type": "code",
   "execution_count": 14,
   "metadata": {},
   "outputs": [
    {
     "name": "stdout",
     "output_type": "stream",
     "text": [
      "Model: \"sequential_1\"\n",
      "_________________________________________________________________\n",
      "Layer (type)                 Output Shape              Param #   \n",
      "=================================================================\n",
      "conv2d_1 (Conv2D)            (None, 28, 28, 32)        832       \n",
      "_________________________________________________________________\n",
      "activation_1 (Activation)    (None, 28, 28, 32)        0         \n",
      "_________________________________________________________________\n",
      "max_pooling2d_1 (MaxPooling2 (None, 14, 14, 32)        0         \n",
      "_________________________________________________________________\n",
      "conv2d_2 (Conv2D)            (None, 14, 14, 32)        9248      \n",
      "_________________________________________________________________\n",
      "activation_2 (Activation)    (None, 14, 14, 32)        0         \n",
      "_________________________________________________________________\n",
      "max_pooling2d_2 (MaxPooling2 (None, 7, 7, 32)          0         \n",
      "_________________________________________________________________\n",
      "flatten_1 (Flatten)          (None, 1568)              0         \n",
      "_________________________________________________________________\n",
      "dense_1 (Dense)              (None, 64)                100416    \n",
      "_________________________________________________________________\n",
      "dropout_1 (Dropout)          (None, 64)                0         \n",
      "_________________________________________________________________\n",
      "dense_2 (Dense)              (None, 64)                4160      \n",
      "_________________________________________________________________\n",
      "dropout_2 (Dropout)          (None, 64)                0         \n",
      "_________________________________________________________________\n",
      "dense_3 (Dense)              (None, 10)                650       \n",
      "=================================================================\n",
      "Total params: 115,306\n",
      "Trainable params: 115,306\n",
      "Non-trainable params: 0\n",
      "_________________________________________________________________\n"
     ]
    }
   ],
   "source": [
    "# model architecture\n",
    "model.summary()"
   ]
  },
  {
   "cell_type": "code",
   "execution_count": 15,
   "metadata": {},
   "outputs": [
    {
     "data": {
      "text/plain": [
       "[0.026459240649622826, 0.9921000003814697]"
      ]
     },
     "execution_count": 15,
     "metadata": {},
     "output_type": "execute_result"
    }
   ],
   "source": [
    "# Score and accuracy on test set\n",
    "score = model.evaluate(X_test, y_test, verbose=0)\n",
    "score"
   ]
  },
  {
   "cell_type": "code",
   "execution_count": 16,
   "metadata": {},
   "outputs": [
    {
     "data": {
      "image/png": "[encoded data removed]",
      "text/plain": [
       "<Figure size 576x360 with 1 Axes>"
      ]
     },
     "metadata": {
      "needs_background": "light"
     },
     "output_type": "display_data"
    }
   ],
   "source": [
    "# Draw train and validation loss and accuracy\n",
    "pd.DataFrame(history.history).plot(figsize = (8, 5))\n",
    "plt.grid(True)\n",
    "plt.gca().set_ylim(0, 1)\n",
    "plt.show()"
   ]
  },
  {
   "cell_type": "code",
   "execution_count": 17,
   "metadata": {},
   "outputs": [],
   "source": [
    "save_model(model, \"model.h5\")"
   ]
  },
  {
   "cell_type": "code",
   "execution_count": null,
   "metadata": {},
   "outputs": [],
   "source": []
  }
 ],
 "metadata": {
  "kernelspec": {
   "display_name": "Python 3",
   "language": "python",
   "name": "python3"
  },
  "language_info": {
   "codemirror_mode": {
    "name": "ipython",
    "version": 3
   },
   "file_extension": ".py",
   "mimetype": "text/x-python",
   "name": "python",
   "nbconvert_exporter": "python",
   "pygments_lexer": "ipython3",
   "version": "3.7.3"
  }
 },
 "nbformat": 4,
 "nbformat_minor": 2
}
